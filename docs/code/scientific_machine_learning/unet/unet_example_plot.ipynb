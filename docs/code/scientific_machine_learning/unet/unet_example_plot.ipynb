{
 "cells": [
  {
   "cell_type": "code",
   "execution_count": 6,
   "id": "ce79f7a7",
   "metadata": {
    "title": "Imports"
   },
   "outputs": [
    {
     "ename": "ModuleNotFoundError",
     "evalue": "No module named 'UQpy.scientific_machine_learning'",
     "output_type": "error",
     "traceback": [
      "\u001b[0;31m---------------------------------------------------------------------------\u001b[0m",
      "\u001b[0;31mModuleNotFoundError\u001b[0m                       Traceback (most recent call last)",
      "Cell \u001b[0;32mIn[6], line 7\u001b[0m\n\u001b[1;32m      5\u001b[0m \u001b[38;5;28;01mfrom\u001b[39;00m \u001b[38;5;21;01mmpl_toolkits\u001b[39;00m \u001b[38;5;28;01mimport\u001b[39;00m axes_grid1\n\u001b[1;32m      6\u001b[0m \u001b[38;5;28;01mfrom\u001b[39;00m \u001b[38;5;21;01mtorch\u001b[39;00m\u001b[38;5;21;01m.\u001b[39;00m\u001b[38;5;21;01mutils\u001b[39;00m\u001b[38;5;21;01m.\u001b[39;00m\u001b[38;5;21;01mdata\u001b[39;00m \u001b[38;5;28;01mimport\u001b[39;00m DataLoader, Dataset\n\u001b[0;32m----> 7\u001b[0m \u001b[38;5;28;01mimport\u001b[39;00m \u001b[38;5;21;01mUQpy\u001b[39;00m\u001b[38;5;21;01m.\u001b[39;00m\u001b[38;5;21;01mscientific_machine_learning\u001b[39;00m \u001b[38;5;28;01mas\u001b[39;00m \u001b[38;5;21;01msml\u001b[39;00m\n\u001b[1;32m      8\u001b[0m \u001b[38;5;28;01mfrom\u001b[39;00m \u001b[38;5;21;01msklearn\u001b[39;00m\u001b[38;5;21;01m.\u001b[39;00m\u001b[38;5;21;01mmetrics\u001b[39;00m \u001b[38;5;28;01mimport\u001b[39;00m mean_absolute_error\n",
      "\u001b[0;31mModuleNotFoundError\u001b[0m: No module named 'UQpy.scientific_machine_learning'"
     ]
    }
   ],
   "source": [
    "import torch\n",
    "import numpy as np\n",
    "import matplotlib.pyplot as plt\n",
    "import os\n",
    "from mpl_toolkits import axes_grid1\n",
    "from torch.utils.data import DataLoader, Dataset\n",
    "import UQpy.scientific_machine_learning as sml\n",
    "from sklearn.metrics import mean_absolute_error"
   ]
  },
  {
   "cell_type": "code",
   "execution_count": 4,
   "id": "3bd6c2d1",
   "metadata": {
    "title": "Check if GPU is available and set the device accordingly"
   },
   "outputs": [
    {
     "name": "stdout",
     "output_type": "stream",
     "text": [
      "Using MPS (Apple Silicon GPU)\n",
      "Using MPS (Apple Silicon GPU)\n",
      "Selected device: mps\n"
     ]
    }
   ],
   "source": [
    "if torch.cuda.is_available():\n",
    "    device = torch.device(\"cuda\")\n",
    "    print(\"Using CUDA (NVIDIA GPU)\")\n",
    "elif torch.backends.mps.is_available():\n",
    "    device = torch.device(\"mps\")\n",
    "    print(\"Using MPS (Apple Silicon GPU)\")\n",
    "else:\n",
    "    device = torch.device(\"cpu\")\n",
    "    print(\"Using CPU\")\n",
    "\n",
    "# Check if GPU is available and set the device accordingly\n",
    "if torch.cuda.is_available():\n",
    "    device = torch.device(\"cuda\")\n",
    "    print(\"Using CUDA (NVIDIA GPU)\")\n",
    "elif torch.backends.mps.is_available():\n",
    "    device = torch.device(\"mps\")\n",
    "    print(\"Using MPS (Apple Silicon GPU)\")\n",
    "else:\n",
    "    device = torch.device(\"cpu\")\n",
    "    print(\"Using CPU\")\n",
    "\n",
    "print(f\"Selected device: {device}\")\n",
    "\n",
    "# Colorbar function\n",
    "\n",
    "\n",
    "def add_colorbar(im, aspect=20, pad_fraction=0.5, **kwargs):\n",
    "    divider = axes_grid1.make_axes_locatable(im.axes)\n",
    "    width = axes_grid1.axes_size.AxesY(im.axes, aspect=1. / aspect)\n",
    "    pad = axes_grid1.axes_size.Fraction(pad_fraction, width)\n",
    "    cax = divider.append_axes(\"right\", size=width, pad=pad)\n",
    "    return im.axes.figure.colorbar(im, cax=cax, **kwargs)\n",
    "\n",
    "# Visualization of data\n",
    "def plot_images(X, Y, title, num_samples):\n",
    "    fig, axes = plt.subplots(num_samples, 2, figsize=(10, num_samples * 5))\n",
    "    fig.suptitle(title, fontsize=16)\n",
    "    plt.ion()\n",
    "    for i in range(num_samples):\n",
    "        # Adjusted for transposed shape\n",
    "        axes[i, 0].imshow(X[i, 0], cmap='viridis')\n",
    "        axes[i, 0].set_title(f\"Input microstructure {i + 1}\")\n",
    "        axes[i, 0].axis('off')\n",
    "\n",
    "        im = axes[i, 1].imshow(Y[i, 0], cmap='viridis')\n",
    "        add_colorbar(im)\n",
    "        axes[i, 1].set_title(\"Ground Truth Mask\")\n",
    "        axes[i, 1].axis('off')\n",
    "\n",
    "    plt.tight_layout(rect=[0, 0, 1, 0.96])\n",
    "    plt.show()\n",
    "    plt.ioff()\n",
    "\n",
    "# Define dataset with appropriate shape\n",
    "class FiberDataset(Dataset):\n",
    "    def __init__(self, X, Y, num_samples=None, img_size=None):\n",
    "        self.X = np.transpose(X, (3, 2, 0, 1))  # Transpose to (N, C_in, H, W)\n",
    "        self.Y = np.transpose(Y, (3, 2, 0, 1))  # Transpose to (N, C_out, H, W)\n",
    "        # Select only one channel, keep dimensions\n",
    "        self.X = self.X[:, :1, :, :]\n",
    "        self.Y = self.Y[:, :1, :, :]\n",
    "\n",
    "        if num_samples is not None:\n",
    "            self.X = self.X[:num_samples]\n",
    "            self.Y = self.Y[:num_samples]\n",
    "\n",
    "    def __len__(self):\n",
    "        return len(self.X)\n",
    "\n",
    "    def __getitem__(self, idx):\n",
    "        return torch.tensor(self.X[idx], dtype=torch.float32), torch.tensor(self.Y[idx], dtype=torch.float32)"
   ]
  },
  {
   "cell_type": "code",
   "execution_count": 5,
   "id": "38573687",
   "metadata": {
    "lines_to_next_cell": 1,
    "title": "Evaluate and plot"
   },
   "outputs": [],
   "source": [
    "def evaluate_and_plot_predictions(unet_model, test_data, device, num_samples=5, fig_dir='figures'):\n",
    "    \"\"\"\n",
    "    Function to load model weights, make predictions on test data, and plot results with MAE heatmap.\n",
    "    \"\"\"\n",
    "    # Load saved weights\n",
    "    weights_path = os.path.join(fig_dir, 'unet_weights.pth')\n",
    "    unet_model.load_state_dict(torch.load(weights_path, map_location=device))\n",
    "    unet_model.eval()\n",
    "    print(\"Model weights loaded successfully for evaluation.\")\n",
    "\n",
    "    # Prepare DataLoader for test data\n",
    "    test_loader = DataLoader(test_data, batch_size=16, shuffle=False)\n",
    "\n",
    "    # Arrays to store predictions, ground truth, inputs, and MAE scores\n",
    "    X_inputs, Y_trues, Y_preds, mae_scores, mae_maps = [], [], [], [], []\n",
    "\n",
    "    # Generate predictions and calculate MAE\n",
    "    with torch.no_grad():\n",
    "        for X_batch, Y_batch in test_loader:\n",
    "            X_batch = X_batch.to(device)\n",
    "            Y_pred = unet_model(X_batch).cpu().numpy()\n",
    "            Y_preds.append(Y_pred)\n",
    "            Y_trues.append(Y_batch.numpy())\n",
    "            X_inputs.append(X_batch.cpu().numpy())\n",
    "\n",
    "            # Calculate MAE per pixel\n",
    "            mae_map_batch = np.abs(Y_batch.numpy() - Y_pred)\n",
    "            mae_maps.append(mae_map_batch)\n",
    "\n",
    "            # Calculate MAE per sample in the batch\n",
    "            mae_batch = [mean_absolute_error(y_true.flatten(), y_pred.flatten())\n",
    "                         for y_true, y_pred in zip(Y_batch.numpy(), Y_pred)]\n",
    "            mae_scores.extend(mae_batch)\n",
    "\n",
    "    # Concatenate results for consistent shapes\n",
    "    X_inputs = np.concatenate(X_inputs, axis=0)\n",
    "    Y_trues = np.concatenate(Y_trues, axis=0)\n",
    "    Y_preds = np.concatenate(Y_preds, axis=0)\n",
    "    mae_maps = np.concatenate(mae_maps, axis=0)\n",
    "\n",
    "    # Plotting predictions with MAE in titles\n",
    "    fig, axes = plt.subplots(num_samples, 4, figsize=(20, num_samples * 5))\n",
    "    fig.suptitle(\"Test Set Predictions with MAE\", fontsize=16)\n",
    "    for i in range(num_samples):\n",
    "        # Input microstructure\n",
    "        axes[i, 0].imshow(X_inputs[i, 0], cmap='viridis')\n",
    "        axes[i, 0].set_title(f\"Input Microstructure {i + 1}\")\n",
    "        axes[i, 0].axis('off')\n",
    "\n",
    "        # Ground truth stress\n",
    "        im = axes[i, 1].imshow(Y_trues[i, 0, :, :], cmap='viridis')\n",
    "        add_colorbar(im)\n",
    "        axes[i, 1].set_title(\"Ground Truth Stress\")\n",
    "        axes[i, 1].axis('off')\n",
    "\n",
    "        # Predicted stress\n",
    "        pred_mask = Y_preds[i, 0, :, :]\n",
    "        im = axes[i, 2].imshow(pred_mask, cmap='viridis')\n",
    "        add_colorbar(im)\n",
    "        axes[i, 2].set_title(f\"Predicted Stress (MAE: {mae_scores[i]:.4f})\")\n",
    "        axes[i, 2].axis('off')\n",
    "\n",
    "        # MAE heatmap\n",
    "        mae_map = mae_maps[i, 0, :, :]\n",
    "        im = axes[i, 3].imshow(mae_map, cmap='hot')\n",
    "        add_colorbar(im)\n",
    "        axes[i, 3].set_title(\"MAE\")\n",
    "        axes[i, 3].axis('off')\n",
    "\n",
    "    plt.tight_layout(rect=[0, 0, 1, 0.96])\n",
    "\n",
    "    # Save the figure\n",
    "    os.makedirs(fig_dir, exist_ok=True)\n",
    "    fig_path = os.path.join(fig_dir, 'test_set_predictions_with_mae.png')\n",
    "    plt.savefig(fig_path, bbox_inches='tight', dpi=100)\n",
    "    plt.show()"
   ]
  },
  {
   "cell_type": "code",
   "execution_count": null,
   "id": "cab97e08",
   "metadata": {
    "title": "Define U-Net model"
   },
   "outputs": [],
   "source": [
    "n_filters = [1, 16, 32, 64, 128]\n",
    "kernel_size = 3\n",
    "out_channels = 1\n",
    "unet = sml.Unet(n_filters, kernel_size, out_channels).to(device)\n",
    "X_ts = np.load('./data/X_ts.npy')\n",
    "Y_ts = np.load('./data/Y_ts.npy')\n",
    "test_dataset = FiberDataset(X_ts, Y_ts)"
   ]
  },
  {
   "cell_type": "code",
   "execution_count": null,
   "id": "7d8dc09b",
   "metadata": {
    "title": "Run evaluation and plotting"
   },
   "outputs": [],
   "source": [
    "evaluate_and_plot_predictions(\n",
    "    unet, test_dataset, device, num_samples=5, fig_dir='figures')"
   ]
  }
 ],
 "metadata": {
  "jupytext": {
   "cell_metadata_filter": "title,-all",
   "main_language": "python",
   "notebook_metadata_filter": "-all"
  },
  "kernelspec": {
   "display_name": "Python 3",
   "language": "python",
   "name": "python3"
  },
  "language_info": {
   "codemirror_mode": {
    "name": "ipython",
    "version": 3
   },
   "file_extension": ".py",
   "mimetype": "text/x-python",
   "name": "python",
   "nbconvert_exporter": "python",
   "pygments_lexer": "ipython3",
   "version": "3.9.18"
  }
 },
 "nbformat": 4,
 "nbformat_minor": 5
}
