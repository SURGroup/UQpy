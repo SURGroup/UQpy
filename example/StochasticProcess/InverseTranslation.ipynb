{
 "cells": [
  {
   "cell_type": "markdown",
   "metadata": {},
   "source": [
    "# Inverse Translatation of a Stochastic Process\n",
    "Author: Lohit Vandanapu\n",
    "Date: May 14, 2019\n",
    "Last Modified: Oct 13, 2021"
   ]
  },
  {
   "cell_type": "markdown",
   "metadata": {},
   "source": [
    "In this example, a Gaussian stochastic processes is first translated into a stocahstic processes of a different distribution and subsequently, these translated samples are translated back to Gaussian samples with InverseTranslate class."
   ]
  },
  {
   "cell_type": "markdown",
   "metadata": {},
   "source": [
    "Import the necessary libraries. Here we import standard libraries such as numpy and matplotlib, but also need to import the InverseTranslation class along with the Translation class from the StochasticProcesses module of UQpy."
   ]
  },
  {
   "cell_type": "code",
   "execution_count": 11,
   "metadata": {},
   "outputs": [],
   "source": [
    "from UQpy.StochasticProcess import Translation, InverseTranslation\n",
    "from UQpy.StochasticProcess import SRM\n",
    "import numpy as np\n",
    "import matplotlib.pyplot as plt\n",
    "plt.style.use('seaborn')"
   ]
  },
  {
   "cell_type": "markdown",
   "metadata": {},
   "source": [
    "Firstly we generate Gaussian Stochastic Processes using the Spectral Representation Method."
   ]
  },
  {
   "cell_type": "code",
   "execution_count": 12,
   "metadata": {},
   "outputs": [],
   "source": [
    "n_sim = 10000  # Num of samples\n",
    "T = 100  # Time(1 / T = dw)\n",
    "nt = 256  # Num.of Discretized Time\n",
    "F = 1 / T * nt / 2  # Frequency.(Hz)\n",
    "nw = 128  # Num of Discretized Freq.\n",
    "dt = T / nt\n",
    "t = np.linspace(0, T - dt, nt)\n",
    "dw = F / nw\n",
    "w = np.linspace(0, F - dw, nw)\n",
    "S = 125 / 4 * w ** 2 * np.exp(-5 * w)\n",
    "SRM_object = SRM(n_sim, S, dt, dw, nt, nw, verbose=False, random_state=128)\n",
    "samples = SRM_object.samples"
   ]
  },
  {
   "cell_type": "code",
   "execution_count": 13,
   "metadata": {},
   "outputs": [],
   "source": [
    "def S_to_R(S, w, t):\n",
    "    dw = w[1] - w[0]\n",
    "    fac = np.ones(len(w))\n",
    "    fac[1: len(w) - 1: 2] = 4\n",
    "    fac[2: len(w) - 2: 2] = 2\n",
    "    fac = fac * dw / 3\n",
    "    R = np.zeros(len(t))\n",
    "    for i in range(len(t)):\n",
    "        R[i] = 2 * np.dot(fac, S * np.cos(w * t[i]))\n",
    "    return R"
   ]
  },
  {
   "cell_type": "code",
   "execution_count": 14,
   "metadata": {},
   "outputs": [],
   "source": [
    "R = S_to_R(S, w, t)\n",
    "r = R/R[0]"
   ]
  },
  {
   "cell_type": "markdown",
   "metadata": {},
   "source": [
    "We translate the samples to be Uniform samples from 1 to 2"
   ]
  },
  {
   "cell_type": "code",
   "execution_count": 15,
   "metadata": {
    "scrolled": true
   },
   "outputs": [],
   "source": [
    "from UQpy.Distributions import Uniform, Lognormal\n",
    "\n",
    "distribution = Lognormal(0.5)\n",
    "samples = samples.flatten()[:, np.newaxis]\n",
    "\n",
    "Translate_object = Translation(dist_object=distribution, time_interval=dt, frequency_interval=dw,\n",
    "                               number_time_intervals=nt, number_frequency_intervals=nw, correlation_function_gaussian=R,\n",
    "                               samples_gaussian=samples)\n",
    "samples_ng = Translate_object.samples_non_gaussian\n",
    "R_ng = Translate_object.scaled_correlation_function_non_gaussian\n",
    "r_ng = Translate_object.correlation_function_non_gaussian"
   ]
  },
  {
   "cell_type": "markdown",
   "metadata": {},
   "source": [
    "Plotting the actual and translated autocorrelation functions"
   ]
  },
  {
   "cell_type": "code",
   "execution_count": 16,
   "metadata": {
    "scrolled": true
   },
   "outputs": [
    {
     "data": {
      "text/plain": "<Figure size 576x396 with 1 Axes>",
      "image/png": "[encoded data removed]"
     },
     "metadata": {},
     "output_type": "display_data"
    }
   ],
   "source": [
    "fig1 = plt.figure()\n",
    "plt.plot(r, label='Gaussian')\n",
    "plt.plot(r_ng, label='Lognormal')\n",
    "plt.title('Correlation functions for the Gaussian and non-Gaussian processes')\n",
    "plt.legend()\n",
    "plt.show()"
   ]
  },
  {
   "cell_type": "code",
   "execution_count": null,
   "metadata": {
    "pycharm": {
     "is_executing": true
    }
   },
   "outputs": [
    {
     "name": "stdout",
     "output_type": "stream",
     "text": [
      "13.036125484706934\n",
      "11.769328396527868\n",
      "10.378044597396832\n",
      "9.161297001307354\n",
      "8.197326619227315\n",
      "7.427984890959012\n",
      "6.793337832630734\n",
      "6.256268887253492\n",
      "5.795246332969504\n",
      "5.396593068759188\n",
      "5.0502090224112814\n",
      "4.747780476552569\n",
      "4.4822774299990975\n",
      "4.24784470628911\n",
      "4.039690913864921\n",
      "3.853920120545642\n",
      "3.687351632293207\n",
      "3.5373635782175996\n",
      "3.4017708997455633\n",
      "3.2787343790853676\n",
      "3.1666933103393626\n",
      "3.0643149574404496\n"
     ]
    }
   ],
   "source": [
    "InverseTranslate_object = InverseTranslation(dist_object=distribution, time_interval=dt, frequency_interval=dw,\n",
    "                                             number_time_intervals=nt, number_frequency_intervals=nw,\n",
    "                                             correlation_function_non_gaussian=R_ng, samples_non_gaussian=samples_ng)\n",
    "samples_g = InverseTranslate_object.samples_gaussian\n",
    "S_g = InverseTranslate_object.power_spectrum_gaussian\n",
    "R_g = InverseTranslate_object.auto_correlation_function_gaussian\n",
    "r_g = InverseTranslate_object.correlation_function_gaussian"
   ]
  },
  {
   "cell_type": "code",
   "execution_count": null,
   "metadata": {
    "pycharm": {
     "name": "#%%\n",
     "is_executing": true
    }
   },
   "outputs": [],
   "source": [
    "fig2 = plt.figure()\n",
    "plt.plot(r_g, label='Inverse Translated')\n",
    "plt.plot(r, label='Original')\n",
    "plt.title('Correlation function for the original and inverse Gaussian processes')\n",
    "plt.legend()\n",
    "plt.show()"
   ]
  }
 ],
 "metadata": {
  "kernelspec": {
   "display_name": "Python 3",
   "language": "python",
   "name": "python3"
  },
  "language_info": {
   "codemirror_mode": {
    "name": "ipython",
    "version": 3
   },
   "file_extension": ".py",
   "mimetype": "text/x-python",
   "name": "python",
   "nbconvert_exporter": "python",
   "pygments_lexer": "ipython3",
   "version": "3.7.7"
  }
 },
 "nbformat": 4,
 "nbformat_minor": 2
}