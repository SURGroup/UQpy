{
 "cells": [
  {
   "cell_type": "markdown",
   "metadata": {},
   "source": [
    "# Spectral Representation Method\n",
    "Author: Lohit Vandanapu\n",
    "Date: August 19, 2018\n",
    "Last Modified: May 09, 2019"
   ]
  },
  {
   "cell_type": "markdown",
   "metadata": {},
   "source": [
    "In this example, the Spectral Representation Method is used to generate stochastic processes from a prescribed Power Spectrum and associated Cross Spectral Density. This example illustrates how to use the SRM class for 'n' dimensional and 'm' variable case and compare the statistics of the generated stochastic processes with the expected values."
   ]
  },
  {
   "cell_type": "markdown",
   "metadata": {},
   "source": [
    "Import the necessary libraries. Here we import standard libraries such as numpy and matplotlib, but also need to import the SRM class from the StochasticProcesses module of UQpy."
   ]
  },
  {
   "cell_type": "code",
   "execution_count": 1,
   "metadata": {},
   "outputs": [],
   "source": [
    "from UQpy.StochasticProcess import SRM\n",
    "import numpy as np\n",
    "import matplotlib.pyplot as plt\n",
    "from pylab import *\n",
    "plt.style.use('seaborn')"
   ]
  },
  {
   "cell_type": "markdown",
   "metadata": {},
   "source": [
    "The input parameters necessary for the generation of the stochastic processes are given below:"
   ]
  },
  {
   "cell_type": "code",
   "execution_count": 2,
   "metadata": {},
   "outputs": [],
   "source": [
    "# Number of samples\n",
    "n_sim = 100\n",
    "\n",
    "# Number of Dimensions\n",
    "n = 2\n",
    "\n",
    "# Number of Variables\n",
    "m = 3\n",
    "\n",
    "# Input Data\n",
    "# Time\n",
    "T = 10  # Simulation Time\n",
    "dt = 0.1\n",
    "nt = int(T / dt) + 1\n",
    "t = np.linspace(0, T, nt)\n",
    "\n",
    "# Frequency\n",
    "nw = 100\n",
    "W = np.array([1.5, 2.5])\n",
    "dw = W / (nw - 1)\n",
    "x_list = [np.linspace(dw[i], W[i], nw) for i in range(n)]\n",
    "xy_list = np.array(np.meshgrid(*x_list, indexing='ij'))"
   ]
  },
  {
   "cell_type": "markdown",
   "metadata": {},
   "source": [
    "Make sure that the input parameters are in order to prevent aliasing"
   ]
  },
  {
   "cell_type": "code",
   "execution_count": 3,
   "metadata": {},
   "outputs": [],
   "source": [
    "t_u = 2*np.pi/2/W\n",
    "\n",
    "if dt>t_u.all():\n",
    "    print('Error')"
   ]
  },
  {
   "cell_type": "markdown",
   "metadata": {},
   "source": [
    "Defining the Power Spectral Density Function (S) and the Cross Spectral Density (g)"
   ]
  },
  {
   "cell_type": "code",
   "execution_count": 4,
   "metadata": {},
   "outputs": [],
   "source": [
    "S_11 = 125 / 4 * np.linalg.norm(xy_list, axis=0) ** 2 * np.exp(-5 * np.linalg.norm(xy_list, axis=0))\n",
    "S_22 = 125 / 4 * np.linalg.norm(xy_list, axis=0) ** 2 * np.exp(-3 * np.linalg.norm(xy_list, axis=0))\n",
    "S_33 = 125 / 4 * np.linalg.norm(xy_list, axis=0) ** 2 * np.exp(-7 * np.linalg.norm(xy_list, axis=0))\n",
    "\n",
    "g_12 = np.exp(-0.1757 * np.linalg.norm(xy_list, axis=0))\n",
    "g_13 = np.exp(-3.478 * np.linalg.norm(xy_list, axis=0))\n",
    "g_23 = np.exp(-3.392 * np.linalg.norm(xy_list, axis=0))\n",
    "\n",
    "S_list = np.array([S_11, S_22, S_33])\n",
    "g_list = np.array([g_12, g_13, g_23])\n",
    "\n",
    "# Assembly of S_jk\n",
    "S_sqrt = np.sqrt(S_list)\n",
    "S_jk = np.einsum('i...,j...->ij...', S_sqrt, S_sqrt)\n",
    "# Assembly of g_jk\n",
    "g_jk = np.zeros_like(S_jk)\n",
    "counter = 0\n",
    "for i in range(m):\n",
    "    for j in range(i + 1, m):\n",
    "        g_jk[i, j] = g_list[counter]\n",
    "        counter = counter + 1\n",
    "g_jk = np.einsum('ij...->ji...', g_jk) + g_jk\n",
    "\n",
    "for i in range(m):\n",
    "    g_jk[i, i] = np.ones_like(S_jk[0, 0])\n",
    "S = S_jk * g_jk"
   ]
  },
  {
   "cell_type": "code",
   "execution_count": 5,
   "metadata": {},
   "outputs": [
    {
     "ename": "TypeError",
     "evalue": "len() of unsized object",
     "output_type": "error",
     "traceback": [
      "\u001B[1;31m---------------------------------------------------------------------------\u001B[0m",
      "\u001B[1;31mTypeError\u001B[0m                                 Traceback (most recent call last)",
      "\u001B[1;32m<ipython-input-5-2fa1c98c3492>\u001B[0m in \u001B[0;36m<module>\u001B[1;34m\u001B[0m\n\u001B[1;32m----> 1\u001B[1;33m \u001B[0mSRM_object\u001B[0m \u001B[1;33m=\u001B[0m \u001B[0mSRM\u001B[0m\u001B[1;33m(\u001B[0m\u001B[0mn_sim\u001B[0m\u001B[1;33m,\u001B[0m \u001B[0mS\u001B[0m\u001B[1;33m,\u001B[0m \u001B[1;33m[\u001B[0m\u001B[0mdt\u001B[0m\u001B[1;33m,\u001B[0m \u001B[0mdt\u001B[0m\u001B[1;33m]\u001B[0m\u001B[1;33m,\u001B[0m \u001B[0mdw\u001B[0m\u001B[1;33m,\u001B[0m \u001B[1;33m[\u001B[0m\u001B[0mnt\u001B[0m\u001B[1;33m,\u001B[0m \u001B[0mnt\u001B[0m\u001B[1;33m]\u001B[0m\u001B[1;33m,\u001B[0m \u001B[0mnw\u001B[0m\u001B[1;33m)\u001B[0m\u001B[1;33m\u001B[0m\u001B[1;33m\u001B[0m\u001B[0m\n\u001B[0m\u001B[0;32m      2\u001B[0m \u001B[0msamples\u001B[0m \u001B[1;33m=\u001B[0m \u001B[0mSRM_object\u001B[0m\u001B[1;33m.\u001B[0m\u001B[0msamples\u001B[0m\u001B[1;33m\u001B[0m\u001B[1;33m\u001B[0m\u001B[0m\n\u001B[0;32m      3\u001B[0m \u001B[0msamples\u001B[0m\u001B[1;33m\u001B[0m\u001B[1;33m\u001B[0m\u001B[0m\n",
      "\u001B[1;32m~\\Anaconda3\\lib\\site-packages\\UQpy\\StochasticProcess.py\u001B[0m in \u001B[0;36m__init__\u001B[1;34m(self, nsamples, power_spectrum, time_interval, frequency_interval, number_time_intervals, number_frequency_intervals, random_state, verbose)\u001B[0m\n\u001B[0;32m    131\u001B[0m         \u001B[0mself\u001B[0m\u001B[1;33m.\u001B[0m\u001B[0msamples\u001B[0m \u001B[1;33m=\u001B[0m \u001B[1;32mNone\u001B[0m\u001B[1;33m\u001B[0m\u001B[1;33m\u001B[0m\u001B[0m\n\u001B[0;32m    132\u001B[0m         \u001B[0mself\u001B[0m\u001B[1;33m.\u001B[0m\u001B[0mnumber_of_variables\u001B[0m \u001B[1;33m=\u001B[0m \u001B[1;32mNone\u001B[0m\u001B[1;33m\u001B[0m\u001B[1;33m\u001B[0m\u001B[0m\n\u001B[1;32m--> 133\u001B[1;33m         \u001B[0mself\u001B[0m\u001B[1;33m.\u001B[0m\u001B[0mnumber_of_dimensions\u001B[0m \u001B[1;33m=\u001B[0m \u001B[0mlen\u001B[0m\u001B[1;33m(\u001B[0m\u001B[0mself\u001B[0m\u001B[1;33m.\u001B[0m\u001B[0mnumber_frequency_intervals\u001B[0m\u001B[1;33m)\u001B[0m\u001B[1;33m\u001B[0m\u001B[1;33m\u001B[0m\u001B[0m\n\u001B[0m\u001B[0;32m    134\u001B[0m         \u001B[0mself\u001B[0m\u001B[1;33m.\u001B[0m\u001B[0mphi\u001B[0m \u001B[1;33m=\u001B[0m \u001B[1;32mNone\u001B[0m\u001B[1;33m\u001B[0m\u001B[1;33m\u001B[0m\u001B[0m\n\u001B[0;32m    135\u001B[0m \u001B[1;33m\u001B[0m\u001B[0m\n",
      "\u001B[1;31mTypeError\u001B[0m: len() of unsized object"
     ]
    }
   ],
   "source": [
    "SRM_object = SRM(n_sim, S, [dt, dt], dw, [nt, nt], nw)\n",
    "samples = SRM_object.samples"
   ]
  },
  {
   "cell_type": "code",
   "execution_count": null,
   "metadata": {},
   "outputs": [],
   "source": [
    "t_list = [t for _ in range(n)]\n",
    "tt_list = np.array(np.meshgrid(*t_list, indexing='ij'))\n",
    "\n",
    "fig1 = plt.figure()\n",
    "plt.title('2d random field with a prescribed Power Spectrum - 1st variable')\n",
    "pcm = pcolor(tt_list[0], tt_list[1], samples[0, 0, :, :], cmap='RdBu_r')\n",
    "plt.colorbar(pcm, extend='both', orientation='vertical')\n",
    "plt.xlabel('$X_{1}$')\n",
    "plt.ylabel('$X_{2}$')\n",
    "plt.show()\n",
    "\n",
    "fig2 = plt.figure()\n",
    "plt.title('2d random field with a prescribed Power Spectrum - 2nd variable')\n",
    "pcm = pcolor(tt_list[0], tt_list[1], samples[0, 1, :, :], cmap='RdBu_r')\n",
    "plt.colorbar(pcm, extend='both', orientation='vertical')\n",
    "plt.xlabel('$X_{1}$')\n",
    "plt.ylabel('$X_{2}$')\n",
    "plt.show()\n",
    "\n",
    "fig3 = plt.figure()\n",
    "plt.title('2d random field with a prescribed Power Spectrum - 3rd variable')\n",
    "pcm = pcolor(tt_list[0], tt_list[1], samples[0, 2, :, :], cmap='RdBu_r')\n",
    "plt.colorbar(pcm, extend='both', orientation='vertical')\n",
    "plt.xlabel('$X_{1}$')\n",
    "plt.ylabel('$X_{2}$')\n",
    "plt.show()"
   ]
  },
  {
   "cell_type": "code",
   "execution_count": null,
   "metadata": {},
   "outputs": [],
   "source": [
    "print('The mean of the samples is ', np.mean(samples), 'whereas the expected mean is 0.000')\n",
    "print('The variance of the samples is ', np.var(samples), 'whereas the expected variance is ', np.sum(S_list)*np.prod(dw)*(2**n)/m)"
   ]
  },
  {
   "cell_type": "code",
   "execution_count": null,
   "metadata": {},
   "outputs": [],
   "source": []
  }
 ],
 "metadata": {
  "kernelspec": {
   "display_name": "Python 3",
   "language": "python",
   "name": "python3"
  },
  "language_info": {
   "codemirror_mode": {
    "name": "ipython",
    "version": 3
   },
   "file_extension": ".py",
   "mimetype": "text/x-python",
   "name": "python",
   "nbconvert_exporter": "python",
   "pygments_lexer": "ipython3",
   "version": "3.7.9"
  }
 },
 "nbformat": 4,
 "nbformat_minor": 2
}