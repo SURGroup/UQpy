{
 "cells": [
  {
   "cell_type": "markdown",
   "metadata": {},
   "source": [
    "# BiSpectral Representation Method\n",
    "Author: Lohit Vandanapu\n",
    "Date: August 19, 2018"
   ]
  },
  {
   "cell_type": "markdown",
   "metadata": {},
   "source": [
    "In this example, the BiSpectral Representation Method is used to generate stochastic processes from a prescribed Power Spectrum and associated Bispectrum. This example illustrates how to use the BSRM class for 'n' dimensional case and compare the statistics of the generated stochastic processes with the expected values."
   ]
  },
  {
   "cell_type": "markdown",
   "metadata": {},
   "source": [
    "Import the necessary libraries. Here we import standard libraries such as numpy and matplotlib, but also need to import the BSRM class from the StochasticProcesses module of UQpy."
   ]
  },
  {
   "cell_type": "code",
   "execution_count": 1,
   "metadata": {},
   "outputs": [],
   "source": [
    "from UQpy.StochasticProcess import BSRM\n",
    "import numpy as np\n",
    "from scipy.stats import skew\n",
    "import matplotlib.pyplot as plt\n",
    "from copy import deepcopy\n",
    "plt.style.use('seaborn')"
   ]
  },
  {
   "cell_type": "markdown",
   "metadata": {},
   "source": [
    "The input parameters necessary for the generation of the stochastic processes are given below:"
   ]
  },
  {
   "cell_type": "code",
   "execution_count": 2,
   "metadata": {},
   "outputs": [],
   "source": [
    "# Input parameters\n",
    "\n",
    "n_sim = 1000  # Num of samples\n",
    "dim = 2\n",
    "n = 1  # Num of dimensions\n",
    "\n",
    "T = 20  # Time(1 / T = dw)\n",
    "nt = 128  # Num.of Discretized Time\n",
    "F = 1 / T * nt / 2  # Frequency.(Hz)\n",
    "nf = 64  # Num of Discretized Freq.\n",
    "\n",
    "# # Generation of Input Data(Stationary)\n",
    "dt = T / nt\n",
    "t = np.linspace(0, T - dt, nt)\n",
    "df = F / nf\n",
    "f = np.linspace(0, F - df, nf)\n",
    "\n",
    "f_list = [f for _ in range(dim)]\n",
    "F_P = np.array(np.meshgrid(*f_list, indexing='ij'))\n",
    "P = 20 / np.sqrt(2 * np.pi) * np.exp(-1/2 * np.linalg.norm(F_P, axis=0) ** 2)\n",
    "\n",
    "F_B = np.meshgrid(*[*f_list, *f_list])\n",
    "b = 40 / (2 * np.pi) * np.exp(2 * (-1/2 * np.linalg.norm(F_B, axis=0) ** 2))\n",
    "B_Real = deepcopy(b)\n",
    "B_Imag = deepcopy(b)\n",
    "\n",
    "B_Real[0, :, :, :] = 0\n",
    "B_Real[:, 0, :, :] = 0\n",
    "B_Real[:, :, 0, :] = 0\n",
    "B_Real[:, :, :, 0] = 0\n",
    "B_Imag[0, :, :, :] = 0\n",
    "B_Imag[:, 0, :, :] = 0\n",
    "B_Imag[:, :, 0, :] = 0\n",
    "B_Imag[:, :, :, 0] = 0\n",
    "\n",
    "B_Complex = B_Real + 1j * B_Imag"
   ]
  },
  {
   "cell_type": "markdown",
   "metadata": {},
   "source": [
    "Make sure that the input parameters are in order to prevent aliasing"
   ]
  },
  {
   "cell_type": "code",
   "execution_count": 3,
   "metadata": {},
   "outputs": [],
   "source": [
    "t_u = 2*np.pi/2/F\n",
    "\n",
    "if dt>t_u:\n",
    "    print('Error')"
   ]
  },
  {
   "cell_type": "markdown",
   "metadata": {},
   "source": [
    "Defining the Power Spectral Density Function"
   ]
  },
  {
   "cell_type": "code",
   "execution_count": null,
   "metadata": {
    "pycharm": {
     "is_executing": true
    }
   },
   "outputs": [],
   "source": [
    "BSRM_object = BSRM(n_sim, P, B_Complex, [dt, dt], [df, df], [nt, nt], [nf, nf])\n",
    "samples = BSRM_object.samples"
   ]
  },
  {
   "cell_type": "code",
   "execution_count": null,
   "metadata": {
    "pycharm": {
     "is_executing": true
    }
   },
   "outputs": [],
   "source": [
    "# fig, ax = plt.subplots()\n",
    "# plt.title('Realisation of the Spectral Representation Method')\n",
    "# plt.plot(t, samples[0])\n",
    "# ax.yaxis.grid(True)\n",
    "# ax.xaxis.grid(True)\n",
    "# plt.show()\n",
    "\n",
    "from pylab import *\n",
    "t_list = [t for _ in range(dim)]\n",
    "T = np.array(np.meshgrid(*t_list, indexing='ij'))\n",
    "\n",
    "fig1 = plt.figure()\n",
    "plt.title('2d random field with a prescribed Power Spectrum and Bispectrum')\n",
    "pcm = pcolor(T[0], T[1], samples[0, 0], cmap='RdBu_r', vmin=-30, vmax=30)\n",
    "plt.colorbar(pcm, extend='both', orientation='vertical')\n",
    "plt.xlabel('$X_{1}$')\n",
    "plt.ylabel('$X_{2}$')\n",
    "plt.show()\n"
   ]
  },
  {
   "cell_type": "code",
   "execution_count": null,
   "metadata": {
    "pycharm": {
     "name": "#%%\n",
     "is_executing": true
    }
   },
   "outputs": [],
   "source": [
    "print('The mean of the samples is ', np.mean(samples), 'whereas the expected mean is 0.000')\n",
    "print('The variance of the samples is ', np.var(samples), 'whereas the expected variance is ', 4 * np.sum(P)*df**2)\n",
    "print('The skewness of the samples is ', np.mean(skew(samples, axis=0)), 'whereas the expected skewness is ', 9 * np.sum(B_Real)*df**4/(4 * np.sum(P)*df**2)**(3/2))"
   ]
  },
  {
   "cell_type": "code",
   "execution_count": null,
   "outputs": [],
   "source": [],
   "metadata": {
    "collapsed": false,
    "pycharm": {
     "name": "#%%\n",
     "is_executing": true
    }
   }
  }
 ],
 "metadata": {
  "kernelspec": {
   "display_name": "Python 3",
   "language": "python",
   "name": "python3"
  },
  "language_info": {
   "codemirror_mode": {
    "name": "ipython",
    "version": 3
   },
   "file_extension": ".py",
   "mimetype": "text/x-python",
   "name": "python",
   "nbconvert_exporter": "python",
   "pygments_lexer": "ipython3",
   "version": "3.7.9"
  }
 },
 "nbformat": 4,
 "nbformat_minor": 2
}