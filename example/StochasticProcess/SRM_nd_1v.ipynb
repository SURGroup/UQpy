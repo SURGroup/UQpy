{
 "cells": [
  {
   "cell_type": "markdown",
   "metadata": {},
   "source": [
    "# Spectral Representation Method\n",
    "Author: Lohit Vandanapu\n",
    "Date: August 19, 2018\n",
    "Last Modified: May 09, 2019"
   ]
  },
  {
   "cell_type": "markdown",
   "metadata": {},
   "source": [
    "In this example, the Spectral Representation Method is used to generate stochastic processes from a prescribed Power Spectrum. This example illustrates how to use the SRM class for 'n' dimensional and one variable case and compare the statistics of the generated stochastic processes with the expected values."
   ]
  },
  {
   "cell_type": "markdown",
   "metadata": {},
   "source": [
    "Import the necessary libraries. Here we import standard libraries such as numpy and matplotlib, but also need to import the SRM class from the StochasticProcesses module of UQpy."
   ]
  },
  {
   "cell_type": "code",
   "execution_count": 1,
   "metadata": {},
   "outputs": [],
   "source": [
    "from UQpy.StochasticProcess import SRM\n",
    "import numpy as np\n",
    "import matplotlib.pyplot as plt\n",
    "from pylab import *\n",
    "plt.style.use('seaborn')"
   ]
  },
  {
   "cell_type": "markdown",
   "metadata": {},
   "source": [
    "The input parameters necessary for the generatino of the stochastic processes are given below:"
   ]
  },
  {
   "cell_type": "code",
   "execution_count": 2,
   "metadata": {},
   "outputs": [],
   "source": [
    "n_sim = 1000 # Num of samples\n",
    "\n",
    "n = 2 # Num of dimensions\n",
    "\n",
    "m = 1 # Num of variables\n",
    "\n",
    "T = 10\n",
    "nt = 200\n",
    "dt = T/nt\n",
    "t = np.linspace(0, T-dt, nt)\n",
    "\n",
    "# Frequency\n",
    "W = np.array([1.0, 1.5])\n",
    "nw = 100\n",
    "dw = W / nw\n",
    "x_list = [np.linspace(0, W[i] - dw[i], nw) for i in range(n)]\n",
    "xy_list = np.array(np.meshgrid(*x_list, indexing='ij'))"
   ]
  },
  {
   "cell_type": "markdown",
   "metadata": {},
   "source": [
    "Defining the Power Spectral Density(S)"
   ]
  },
  {
   "cell_type": "code",
   "execution_count": 3,
   "metadata": {},
   "outputs": [],
   "source": [
    "S_nd_1v = 125 / 4 * np.linalg.norm(xy_list, axis=0) ** 2 * np.exp(-5 * np.linalg.norm(xy_list, axis=0))"
   ]
  },
  {
   "cell_type": "markdown",
   "metadata": {},
   "source": [
    "Make sure that the input parameters are in order to prevent aliasing"
   ]
  },
  {
   "cell_type": "code",
   "execution_count": 4,
   "metadata": {},
   "outputs": [],
   "source": [
    "t_u = 2*np.pi/2/W\n",
    "\n",
    "if dt>t_u.all():\n",
    "    print('Error')"
   ]
  },
  {
   "cell_type": "code",
   "execution_count": 5,
   "metadata": {},
   "outputs": [
    {
     "name": "stdout",
     "output_type": "stream",
     "text": [
      "UQpy: Stochastic Process: Running Spectral Representation Method.\n",
      "UQpy: Stochastic Process: Starting simulation of uni-variate Stochastic Processes.\n",
      "UQpy: The number of dimensions is : 2\n",
      "UQpy: Stochastic Process: Spectral Representation Method Complete.\n"
     ]
    }
   ],
   "source": [
    "SRM_object = SRM(n_sim, S_nd_1v, [dt, dt], [dw, dw], [nt, nt], [nw, nw], verbose=True, random_state=128)\n",
    "samples_nd_1v = SRM_object.samples"
   ]
  },
  {
   "cell_type": "code",
   "execution_count": 8,
   "metadata": {},
   "outputs": [],
   "source": [
    "t_list = [t for _ in range(n)]\n",
    "tt_list = np.array(np.meshgrid(*t_list, indexing='ij'))\n",
    "\n",
    "fig1 = plt.figure()\n",
    "plt.title('2d random field with a prescribed Power Spectrum')\n",
    "pcm = pcolor(tt_list[0], tt_list[1], samples_nd_1v[0, 0], cmap='RdBu_r', vmin=-6, vmax=6)\n",
    "plt.colorbar(pcm, extend='both', orientation='vertical')\n",
    "plt.xlabel('$X_{1}$')\n",
    "plt.ylabel('$X_{2}$')\n",
    "plt.show()"
   ]
  },
  {
   "cell_type": "code",
   "execution_count": 7,
   "metadata": {},
   "outputs": [
    {
     "name": "stdout",
     "output_type": "stream",
     "text": [
      "The mean of the samples is  6.550315845288424e-22 whereas the expected mean is 0.000\n",
      "The variance of the samples is  0.00025121605445033385 whereas the expected variance is  1.6747736963355586\n"
     ]
    }
   ],
   "source": [
    "print('The mean of the samples is ', np.mean(samples_nd_1v), 'whereas the expected mean is 0.000')\n",
    "print('The variance of the samples is ', np.var(samples_nd_1v), 'whereas the expected variance is ', np.sum(S_nd_1v)*np.prod(dw)*(2**n))"
   ]
  },
  {
   "cell_type": "code",
   "execution_count": 10,
   "metadata": {
    "pycharm": {
     "name": "#%%\n"
    }
   },
   "outputs": [
    {
     "data": {
      "text/plain": "array([[ 0.02675543, -0.00328436,  0.01389346, ...,  0.00567918,\n        -0.01395066,  0.0009239 ],\n       [ 0.01384348, -0.00466138,  0.0224751 , ...,  0.01702975,\n        -0.00043551,  0.01481972],\n       [ 0.01416115,  0.00681269,  0.01016679, ...,  0.01396179,\n        -0.02136114,  0.00355721],\n       ...,\n       [ 0.02551486,  0.01643424,  0.02846926, ...,  0.00081358,\n        -0.00188984,  0.01267616],\n       [ 0.01744803,  0.00048088, -0.00306404, ...,  0.02331802,\n         0.01108703,  0.01764641],\n       [-0.00739509, -0.02450114, -0.00870536, ..., -0.00848951,\n        -0.01386669, -0.02751932]])"
     },
     "execution_count": 10,
     "metadata": {},
     "output_type": "execute_result"
    }
   ],
   "source": []
  }
 ],
 "metadata": {
  "kernelspec": {
   "display_name": "Python 3",
   "language": "python",
   "name": "python3"
  },
  "language_info": {
   "codemirror_mode": {
    "name": "ipython",
    "version": 3
   },
   "file_extension": ".py",
   "mimetype": "text/x-python",
   "name": "python",
   "nbconvert_exporter": "python",
   "pygments_lexer": "ipython3",
   "version": "3.7.9"
  }
 },
 "nbformat": 4,
 "nbformat_minor": 2
}