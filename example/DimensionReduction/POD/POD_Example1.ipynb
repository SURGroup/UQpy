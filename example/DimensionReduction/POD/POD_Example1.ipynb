{
 "cells": [
  {
   "cell_type": "markdown",
   "metadata": {},
   "source": [
    "# Proper Orthogonal Decomposition Example 1"
   ]
  },
  {
   "cell_type": "markdown",
   "metadata": {},
   "source": [
    "Author: Katiana Kontolati \\\n",
    "Date: August 27, 2020"
   ]
  },
  {
   "cell_type": "markdown",
   "metadata": {},
   "source": [
    "In this example, the Direct Proper Orthogonal Decomposition (POD) and Higher-order Singular Value Decomposition (HOSVD) methods are used to decompose a set of data and extract basis functions which can be used for the reconstruction of the solution."
   ]
  },
  {
   "cell_type": "markdown",
   "metadata": {},
   "source": [
    "Import the necessary libraries. Here we import standard libraries such as numpy, matplotlib, and we also import the POD class from UQpy."
   ]
  },
  {
   "cell_type": "code",
   "execution_count": 1,
   "metadata": {},
   "outputs": [
    {
     "name": "stdout",
     "output_type": "stream",
     "text": [
      "Populating the interactive namespace from numpy and matplotlib\n"
     ]
    }
   ],
   "source": [
    "%pylab inline\n",
    "from UQpy.DimensionReduction import DirectPOD, SnapshotPOD, HOSVD\n",
    "import time"
   ]
  },
  {
   "cell_type": "markdown",
   "metadata": {},
   "source": [
    "Input dataset in the form of a second order tensor consists of three snapshot solutions. Using the POD method we reconstruct the input dataset by keeping a predefined number of modes."
   ]
  },
  {
   "cell_type": "code",
   "execution_count": 2,
   "metadata": {},
   "outputs": [],
   "source": [
    "Data = np.zeros((3, 5, 3))\n",
    "\n",
    "Data[ :, :, 0] = [\n",
    "[0.9073,  1.7842,  2.1236, 1.1323, 1.6545],\n",
    "[0.8924,  1.7753,  -0.6631, 0.5654, 2.1235],\n",
    "[2.1488,  4.2495,  1.8260, 0.3423, 4.9801]]\n",
    "\n",
    "Data[:, :, 1] = [\n",
    "[0.7158,  1.6970,  -0.0740, 5.478, 1.0987],\n",
    "[-0.4898,  -1.5077,  1.9103, 6.7121, 0.5334],\n",
    "[0.3054,  0.3207,  2.1335, 1.1082, 5.5435]]\n",
    "\n",
    "Data[:, :, 2] = [\n",
    "[-0.3698,  0.0151,  1.4429, 2.5463, 6.9871],\n",
    "[2.4288,  4.0337,  -1.7495, -0.5012, 1.7654],\n",
    "[2.3753,  4.7146,  -0.2716, 1.6543, 0.9121]]"
   ]
  },
  {
   "cell_type": "markdown",
   "metadata": {},
   "source": [
    "### POD"
   ]
  },
  {
   "cell_type": "markdown",
   "metadata": {},
   "source": [
    "The Direct POD method is used to compute the reconstructed solutions and reduced-order solutions in the spatial dimension of the data. Full reconstruction is achieved when the number of modes chosen, equals the number of dimensions. "
   ]
  },
  {
   "cell_type": "code",
   "execution_count": 3,
   "metadata": {},
   "outputs": [
    {
     "name": "stdout",
     "output_type": "stream",
     "text": [
      "UQpy: Successful execution of Direct POD!\n",
      "Dataset reconstruction: 59.769%\n"
     ]
    }
   ],
   "source": [
    "start_time = time.time()\n",
    "\n",
    "pod = DirectPOD(input_sol=Data, modes=1, verbose=True)\n",
    "Data_reconstr, Data_reduced = pod.run()"
   ]
  },
  {
   "cell_type": "markdown",
   "metadata": {},
   "source": [
    "Print the reconstructed dataset."
   ]
  },
  {
   "cell_type": "code",
   "execution_count": 4,
   "metadata": {},
   "outputs": [
    {
     "name": "stdout",
     "output_type": "stream",
     "text": [
      "Reconstructed snapshot no.1:\n",
      "[[ 0.37169308  1.07447209  1.12166392  2.90766999  3.23915022]\n",
      " [ 0.95438509  1.46078201 -0.21356999  2.07037707  1.41936339]\n",
      " [ 1.56579651  3.0151097   1.12358846  1.01320396  3.54585821]]\n",
      "Elapsed time:  0.00614905\n"
     ]
    }
   ],
   "source": [
    "print('Reconstructed snapshot no.1:')\n",
    "print(Data_reconstr[:,:,0])\n",
    "\n",
    "if np.allclose(Data, Data_reconstr)==True:\n",
    "    print('Input data and reconstructed data are identical.')\n",
    "\n",
    "elapsed_time = time.time() - start_time\n",
    "time.strftime(\"%H:%M:%S\", time.gmtime(elapsed_time))\n",
    "print('Elapsed time: ', round(elapsed_time,8))"
   ]
  },
  {
   "cell_type": "markdown",
   "metadata": {},
   "source": [
    "### HOSVD"
   ]
  },
  {
   "cell_type": "markdown",
   "metadata": {},
   "source": [
    "The Higher-order singular value decomposition (HOSVD) method is used for data reconstruction. In addition, the reduced data represent the reduced solutions in the spatial dimension of the data while the number of solutions spanshots is preserved."
   ]
  },
  {
   "cell_type": "code",
   "execution_count": 5,
   "metadata": {},
   "outputs": [
    {
     "name": "stdout",
     "output_type": "stream",
     "text": [
      "UQpy: Successful execution of HOSVD!\n",
      "Reduced-order reconstruction error: 0.000%\n"
     ]
    }
   ],
   "source": [
    "start_time = time.time()\n",
    "\n",
    "hosvd = HOSVD(input_sol=Data, reconstr_perc=90, verbose=True)\n",
    "Data_reconstr, Data_reduced = hosvd.run(get_error=True)"
   ]
  },
  {
   "cell_type": "markdown",
   "metadata": {},
   "source": [
    "Print the reconstructed dataset."
   ]
  },
  {
   "cell_type": "code",
   "execution_count": 6,
   "metadata": {},
   "outputs": [
    {
     "name": "stdout",
     "output_type": "stream",
     "text": [
      "Reconstructed snapshot no.1:\n",
      "[[ 0.9073  1.7842  2.1236  1.1323  1.6545]\n",
      " [ 0.8924  1.7753 -0.6631  0.5654  2.1235]\n",
      " [ 2.1488  4.2495  1.826   0.3423  4.9801]]\n",
      "Input data and reconstructed data are identical.\n",
      "Elapsed time:  0.00726986\n"
     ]
    }
   ],
   "source": [
    "print('Reconstructed snapshot no.1:')\n",
    "print(Data_reconstr[:,:,0])\n",
    "\n",
    "if np.allclose(Data,Data_reconstr)==True:\n",
    "    print('Input data and reconstructed data are identical.')\n",
    "    \n",
    "elapsed_time = time.time() - start_time\n",
    "time.strftime(\"%H:%M:%S\", time.gmtime(elapsed_time))\n",
    "print('Elapsed time: ', round(elapsed_time,8))"
   ]
  },
  {
   "cell_type": "code",
   "execution_count": null,
   "metadata": {},
   "outputs": [],
   "source": []
  }
 ],
 "metadata": {
  "kernelspec": {
   "display_name": "Python 3",
   "language": "python",
   "name": "python3"
  },
  "language_info": {
   "codemirror_mode": {
    "name": "ipython",
    "version": 3
   },
   "file_extension": ".py",
   "mimetype": "text/x-python",
   "name": "python",
   "nbconvert_exporter": "python",
   "pygments_lexer": "ipython3",
   "version": "3.7.7"
  }
 },
 "nbformat": 4,
 "nbformat_minor": 4
}
